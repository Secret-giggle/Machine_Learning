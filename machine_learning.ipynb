{
  "nbformat": 4,
  "nbformat_minor": 0,
  "metadata": {
    "colab": {
      "name": "machine_learning.ipynb",
      "provenance": [],
      "collapsed_sections": []
    },
    "kernelspec": {
      "name": "python3",
      "display_name": "Python 3"
    },
    "language_info": {
      "name": "python"
    }
  },
  "cells": [
    {
      "cell_type": "code",
      "source": [
        "#1st question \n",
        "def factorial(n):\n",
        "  fact=1\n",
        "  for i in range(n):\n",
        "    fact=fact*n\n",
        "    n=n-1\n",
        "  return fact"
      ],
      "metadata": {
        "id": "iUesd0hDxNry"
      },
      "execution_count": null,
      "outputs": []
    },
    {
      "cell_type": "code",
      "source": [
        "#2\n",
        "dict={\"Darth Vader\":\"father\",\"Leia\":\"sister\",\"Han\":\"brother\",\"R2D2\":\"droid\"}\n",
        "def relation_to_luke(name):\n",
        "  if name in dict.keys():\n",
        "    print(\"Luke, I am your \"+dict[name])\n",
        "  else:\n",
        "    print(\"Invalid Entry!! Please Check\")"
      ],
      "metadata": {
        "id": "Xa3dzUNnI4nr"
      },
      "execution_count": null,
      "outputs": []
    },
    {
      "cell_type": "code",
      "source": [
        "#3\n",
        "def digits(n):\n",
        "  count=0\n",
        "  while n!= 0:\n",
        "    n=n//10\n",
        "    count=count+1\n",
        "  print(f\"the number of digits are {count}\")"
      ],
      "metadata": {
        "id": "qgb8hdEMewCo"
      },
      "execution_count": null,
      "outputs": []
    },
    {
      "cell_type": "code",
      "source": [
        "#4 \n",
        "def function(n):\n",
        "  result=1\n",
        "  while n!=0:\n",
        "    result=result*factorial(n)\n",
        "    n=n-1\n",
        "  return result\n",
        "    \n"
      ],
      "metadata": {
        "id": "QRGF3erssVXt"
      },
      "execution_count": null,
      "outputs": []
    },
    {
      "cell_type": "code",
      "source": [
        "#5. \n",
        "def squaring(num):\n",
        "  rem=0\n",
        "  result=0\n",
        "  while num!=0:\n",
        "    rem=num%10\n",
        "    num=num//10\n",
        "    result=result+rem*rem\n",
        "  return result"
      ],
      "metadata": {
        "id": "RfBNP9hCs6Hx"
      },
      "execution_count": null,
      "outputs": []
    },
    {
      "cell_type": "code",
      "source": [
        "#6\n",
        "print(\"Please enter the third arg as op only\")\n",
        "def operate(n1,n2,op):\n",
        "  result=0\n",
        "  op=int(input(\"Please select 0 for +,1 for -, 2 for *,3 for /\"))\n",
        "  if op== 0:\n",
        "    result= n1+n2\n",
        "  elif op== 1 :\n",
        "    result= n1-n2\n",
        "  elif op== 2 :\n",
        "    result= n1*n2\n",
        "  elif op== 3 :\n",
        "    result= n1/n2\n",
        "  else:\n",
        "    print(\"Invalid arguemenets\")\n",
        "  return result\n"
      ],
      "metadata": {
        "id": "Kvw1kEK7v5fm",
        "colab": {
          "base_uri": "https://localhost:8080/"
        },
        "outputId": "4bd4412a-74ca-497e-b9d5-64281fbc9898"
      },
      "execution_count": null,
      "outputs": [
        {
          "output_type": "stream",
          "name": "stdout",
          "text": [
            "Please enter the third arg as op only\n"
          ]
        }
      ]
    },
    {
      "cell_type": "code",
      "source": [
        "#7. \n",
        "def function(n):\n",
        "  i=n\n",
        "  while i is not 0:\n",
        "    print(\"I CAN!!!\")\n",
        "    i=i-1\n",
        "    if i is not 0:\n",
        "      print(\"I WILL!!!\")\n",
        "      i=i-1"
      ],
      "metadata": {
        "id": "XTfycfw_xR9i"
      },
      "execution_count": null,
      "outputs": []
    },
    {
      "cell_type": "code",
      "source": [
        ""
      ],
      "metadata": {
        "id": "Vu3seHnzkJ-Z"
      },
      "execution_count": null,
      "outputs": []
    },
    {
      "cell_type": "code",
      "source": [
        "#9. \n",
        "def consecutive(list1,list2):\n",
        "  list3=list1+list2\n",
        "  sorted_list = sorted(list3)\n",
        "  range_list=list(range(min(list1), max(list2)+1))\n",
        "  if sorted_list == range_list:\n",
        "   print(\"list has consecutive numbers\")\n",
        "  else:\n",
        "    print(\"list does not have consecutive numbers\")\n"
      ],
      "metadata": {
        "id": "Dtdfq8xP0wpX"
      },
      "execution_count": null,
      "outputs": []
    }
  ]
}